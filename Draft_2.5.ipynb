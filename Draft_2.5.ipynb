{
 "cells": [
  {
   "cell_type": "markdown",
   "metadata": {},
   "source": [
    "# Import Everthing We Need\n"
   ]
  },
  {
   "cell_type": "code",
   "execution_count": null,
   "metadata": {},
   "outputs": [],
   "source": [
    "import pandas as pd\n",
    "import matplotlib.pyplot as plt\n",
    "import seaborn as sns"
   ]
  },
  {
   "cell_type": "code",
   "execution_count": null,
   "metadata": {},
   "outputs": [],
   "source": [
    "#Import data files\n",
    "movie_budgets_df = pd.read_csv('zippedData/tn.movie_budgets.csv.gz') #Michael's from Rotten Tomatos \n",
    "movie_studios = pd.read_csv('zippedData/bom.movie_gross.csv.gz')     #Teigen's from Box Office Mojo \n",
    "title_basics = pd.read_csv('zippedData/imdb.title.basics.csv.gz')    #Louis' from basics IMDB\n",
    "title_ratings = pd.read_csv('zippedData/imdb.title.ratings.csv.gz')  #Louis' ratings from IMDB\n",
    "tmdb = pd.read_csv('zippedData/tmdb.movies.csv.gz')                  #Ely's from TMDB"
   ]
  },
  {
   "cell_type": "code",
   "execution_count": null,
   "metadata": {},
   "outputs": [],
   "source": []
  },
  {
   "cell_type": "code",
   "execution_count": null,
   "metadata": {},
   "outputs": [],
   "source": [
    "#Ely's innitial cleaning TMDB \n",
    "genres={'28':\"Action\",\n",
    "'12':\"Adventure\",\n",
    "'16':\"Animation\",\n",
    "'35':\"Comedy\",\n",
    "'80':\"Crime\",\n",
    "'99':\"Documentary\",\n",
    "'18':\"Drama\",\n",
    "'10751':\"Family\",\n",
    "'14':\"Fantasy\",\n",
    "'36':\"History\",\n",
    "'27':\"Horror\",\n",
    "'10402':\"Music\",\n",
    "'9648':\"Mystery\",\n",
    "'10749':\"Romance\",\n",
    "'878':\"Science Fiction\",\n",
    "'10770':\"TV Movie\",\n",
    "'53':\"Thriller\",\n",
    "'10752':\"War\",\n",
    "'37':\"Western\"}\n",
    "\n",
    "tmdb = tmdb.replace(pd.Series(genres).astype(str), regex=True)\n",
    "tmdb['genre_ids']=tmdb['genre_ids'].str.strip('[]').str.split(', ')\n"
   ]
  },
  {
   "cell_type": "code",
   "execution_count": null,
   "metadata": {},
   "outputs": [],
   "source": [
    "#IMDB merge\n",
    "title_master = title_basics.merge(title_ratings, how='inner')"
   ]
  },
  {
   "cell_type": "code",
   "execution_count": null,
   "metadata": {},
   "outputs": [],
   "source": [
    "louis_and_ely = tmdb.merge(title_master, how = 'inner')\n",
    "louis_and_ely"
   ]
  },
  {
   "cell_type": "code",
   "execution_count": null,
   "metadata": {},
   "outputs": [],
   "source": [
    "louis_and_ely_and_teigen = louis_and_ely.merge(movie_studios, how = 'inner')\n"
   ]
  },
  {
   "cell_type": "code",
   "execution_count": null,
   "metadata": {},
   "outputs": [],
   "source": [
    "let = louis_and_ely_and_teigen.drop(['domestic_gross', 'foreign_gross'], axis = 1)\n",
    "let"
   ]
  },
  {
   "cell_type": "code",
   "execution_count": null,
   "metadata": {},
   "outputs": [],
   "source": [
    "let = louis_and_ely_and_teigen.drop(['domestic_gross', 'foreign_gross'], axis = 1)\n",
    "let"
   ]
  },
  {
   "cell_type": "code",
   "execution_count": null,
   "metadata": {},
   "outputs": [],
   "source": [
    "#add director info\n",
    "title_principal=pd.read_csv('zippedData/imdb.title.principals.csv.gz')\n",
    "title_principal"
   ]
  },
  {
   "cell_type": "code",
   "execution_count": null,
   "metadata": {},
   "outputs": [],
   "source": [
    "title_principal_directors=title_principal[title_principal['category'] == 'director']\n",
    "title_principal_directors"
   ]
  },
  {
   "cell_type": "code",
   "execution_count": null,
   "metadata": {},
   "outputs": [],
   "source": [
    "name_basics=pd.read_csv('zippedData/imdb.name.basics.csv.gz')\n",
    "name_basics"
   ]
  },
  {
   "cell_type": "code",
   "execution_count": null,
   "metadata": {},
   "outputs": [],
   "source": [
    "nconst_to_name=dict(zip(list(name_basics['nconst']),list(name_basics['primary_name'])))"
   ]
  },
  {
   "cell_type": "code",
   "execution_count": null,
   "metadata": {},
   "outputs": [],
   "source": [
    "title_principal_directors['director_name']=title_principal_directors['nconst'].map(nconst_to_name)"
   ]
  },
  {
   "cell_type": "code",
   "execution_count": null,
   "metadata": {},
   "outputs": [],
   "source": [
    "title_principal_directors"
   ]
  },
  {
   "cell_type": "code",
   "execution_count": null,
   "metadata": {},
   "outputs": [],
   "source": [
    "let=let.merge(title_principal_directors, on = 'tconst')\n",
    "let"
   ]
  },
  {
   "cell_type": "code",
   "execution_count": null,
   "metadata": {},
   "outputs": [],
   "source": [
    "movie_budgets_df = movie_budgets_df.rename(columns={'movie':'title'})"
   ]
  },
  {
   "cell_type": "code",
   "execution_count": null,
   "metadata": {
    "scrolled": true
   },
   "outputs": [],
   "source": [
    "master_unclean = let.merge(movie_budgets_df, on = 'title', how = 'inner')\n",
    "master_unclean"
   ]
  },
  {
   "cell_type": "code",
   "execution_count": null,
   "metadata": {},
   "outputs": [],
   "source": [
    "master_unclean.info()"
   ]
  },
  {
   "cell_type": "code",
   "execution_count": null,
   "metadata": {
    "scrolled": true
   },
   "outputs": [],
   "source": [
    "master_unclean['vote_count'].describe()"
   ]
  },
  {
   "cell_type": "code",
   "execution_count": null,
   "metadata": {},
   "outputs": [],
   "source": [
    "run_time = master_unclean.loc[(master_unclean['runtime_minutes'] > 30) & (master_unclean['runtime_minutes'] < 180)]\n",
    "run_time"
   ]
  },
  {
   "cell_type": "code",
   "execution_count": null,
   "metadata": {},
   "outputs": [],
   "source": [
    "less_columns = master_unclean.drop(['Unnamed: 0', 'id_x', 'original_title', 'tconst', 'start_year', 'id_y', 'genres', 'release_date_x', 'primary_title'], axis = 1)"
   ]
  },
  {
   "cell_type": "code",
   "execution_count": null,
   "metadata": {},
   "outputs": [],
   "source": [
    "less_columns"
   ]
  },
  {
   "cell_type": "code",
   "execution_count": null,
   "metadata": {},
   "outputs": [],
   "source": [
    "less_columns=less_columns.loc[less_columns['year'] >= 2016]"
   ]
  },
  {
   "cell_type": "code",
   "execution_count": null,
   "metadata": {},
   "outputs": [],
   "source": [
    "less_columns=less_columns.drop(['year'], axis=1)"
   ]
  },
  {
   "cell_type": "code",
   "execution_count": null,
   "metadata": {
    "scrolled": true
   },
   "outputs": [],
   "source": [
    "less_columns"
   ]
  },
  {
   "cell_type": "code",
   "execution_count": null,
   "metadata": {},
   "outputs": [],
   "source": [
    "#clean up budget and gross numbers, add the return on investment column\n",
    "less_columns['production_budget'] = less_columns['production_budget'].str.replace(',', '')\n",
    "less_columns['production_budget'] = less_columns['production_budget'].str.replace('$', '')\n",
    "less_columns['production_budget'] = less_columns['production_budget'].astype(int)\n",
    "less_columns['domestic_gross'] = less_columns['domestic_gross'].str.replace(',', '').str.replace('$', '')\n",
    "less_columns['domestic_gross'] = less_columns['domestic_gross'].astype(int)\n",
    "less_columns['worldwide_gross'] = less_columns['worldwide_gross'].str.replace(',', '').str.replace('$', '')\n",
    "less_columns['worldwide_gross'] = less_columns['worldwide_gross'].astype(int)\n",
    "less_columns['total_gross'] = less_columns['domestic_gross'] + less_columns['worldwide_gross']\n",
    "less_columns['ROI'] = (less_columns['total_gross'] / less_columns['production_budget']) * 100"
   ]
  },
  {
   "cell_type": "code",
   "execution_count": null,
   "metadata": {},
   "outputs": [],
   "source": [
    "less_columns.groupby('studio').mean()"
   ]
  },
  {
   "cell_type": "code",
   "execution_count": null,
   "metadata": {},
   "outputs": [],
   "source": [
    "#drop duplicates\n",
    "less_columns=less_columns.drop_duplicates(['title','release_date_y'])\n"
   ]
  },
  {
   "cell_type": "code",
   "execution_count": null,
   "metadata": {},
   "outputs": [],
   "source": [
    "exploded = less_columns.explode('genre_ids', ignore_index=False)"
   ]
  },
  {
   "cell_type": "code",
   "execution_count": null,
   "metadata": {},
   "outputs": [],
   "source": [
    "exploded.reset_index()"
   ]
  },
  {
   "cell_type": "code",
   "execution_count": null,
   "metadata": {},
   "outputs": [],
   "source": [
    "exploded['release_date_y'].values[0][0:3]"
   ]
  },
  {
   "cell_type": "code",
   "execution_count": null,
   "metadata": {},
   "outputs": [],
   "source": [
    "exploded['month'] = exploded['release_date_y'].str[0:3]"
   ]
  },
  {
   "cell_type": "code",
   "execution_count": null,
   "metadata": {},
   "outputs": [],
   "source": [
    "exploded"
   ]
  },
  {
   "cell_type": "code",
   "execution_count": null,
   "metadata": {},
   "outputs": [],
   "source": [
    "month = exploded['month']"
   ]
  },
  {
   "cell_type": "code",
   "execution_count": null,
   "metadata": {},
   "outputs": [],
   "source": [
    "month.value_counts().index"
   ]
  },
  {
   "cell_type": "code",
   "execution_count": null,
   "metadata": {},
   "outputs": [],
   "source": [
    "exploded['genre_ids'].value_counts"
   ]
  },
  {
   "cell_type": "code",
   "execution_count": null,
   "metadata": {},
   "outputs": [],
   "source": [
    "exploded"
   ]
  },
  {
   "cell_type": "code",
   "execution_count": null,
   "metadata": {},
   "outputs": [],
   "source": [
    "month_genre_roi_title = exploded.drop(['original_language', 'popularity', 'vote_average', 'vote_count',\\\n",
    "                                      'runtime_minutes', 'averagerating', 'numvotes', 'studio', \\\n",
    "                                      'production_budget', 'domestic_gross', 'worldwide_gross',\\\n",
    "                                      'total_gross'], axis=1)"
   ]
  },
  {
   "cell_type": "code",
   "execution_count": null,
   "metadata": {},
   "outputs": [],
   "source": [
    "month_genre_roi_title"
   ]
  },
  {
   "cell_type": "code",
   "execution_count": null,
   "metadata": {},
   "outputs": [],
   "source": [
    "#dictionary of months and number\n",
    "month_to_number={'Jan': 1,'Feb': 2, 'Mar': 3, 'Apr': 4, 'May': 5, 'Jun': 6, 'Jul': 7, 'Aug': 8, 'Sep': 9, 'Oct': 10, 'Nov': 11, 'Dec': 12}"
   ]
  },
  {
   "cell_type": "code",
   "execution_count": null,
   "metadata": {},
   "outputs": [],
   "source": [
    "#map month to number in dataframe month_genre_roi_title\n",
    "month_genre_roi_title['month']=month_genre_roi_title['month'].map(month_to_number)\n"
   ]
  },
  {
   "cell_type": "code",
   "execution_count": null,
   "metadata": {},
   "outputs": [],
   "source": [
    "month_genre_roi_title"
   ]
  },
  {
   "cell_type": "code",
   "execution_count": null,
   "metadata": {},
   "outputs": [],
   "source": [
    "genre_roi=month_genre_roi_title.groupby(['genre_ids']).mean().sort_values('ROI', ascending=False)\n",
    "genre_roi"
   ]
  },
  {
   "cell_type": "code",
   "execution_count": null,
   "metadata": {},
   "outputs": [],
   "source": [
    "\n",
    "#take top 5 genres\n",
    "top_5_genres=list(genre_roi.index[0:5])\n",
    "top_5_genres"
   ]
  },
  {
   "cell_type": "code",
   "execution_count": null,
   "metadata": {
    "scrolled": true
   },
   "outputs": [],
   "source": [
    "month_genre_roi_title[month_genre_roi_title['genre_ids'].isin(top_5_genres)]\n"
   ]
  },
  {
   "cell_type": "code",
   "execution_count": null,
   "metadata": {},
   "outputs": [],
   "source": [
    "month_genre_roi_title=month_genre_roi_title[month_genre_roi_title['genre_ids'].isin(top_5_genres)]"
   ]
  },
  {
   "cell_type": "code",
   "execution_count": null,
   "metadata": {},
   "outputs": [],
   "source": [
    "# set plot style: grey grid in the background:\n",
    "sns.set(style=\"darkgrid\")\n",
    "\n",
    "# Set the figure size\n",
    "plt.figure(figsize=(10, 10))\n",
    "\n",
    "# grouped barplot\n",
    "sns.lineplot(x=\"month\", y=\"ROI\", hue=\"genre_ids\", data=month_genre_roi_title , ci=None);"
   ]
  },
  {
   "cell_type": "code",
   "execution_count": null,
   "metadata": {},
   "outputs": [],
   "source": [
    "month_genre_roi_title.groupby(['month','genre_ids']).mean()"
   ]
  },
  {
   "cell_type": "code",
   "execution_count": null,
   "metadata": {},
   "outputs": [],
   "source": [
    "month_genre_roi_title.groupby(['genre_ids','month']).sum()"
   ]
  },
  {
   "cell_type": "code",
   "execution_count": null,
   "metadata": {},
   "outputs": [],
   "source": [
    "month_genre_roi_title['genre_ids'].value_counts()"
   ]
  },
  {
   "cell_type": "code",
   "execution_count": null,
   "metadata": {},
   "outputs": [],
   "source": [
    "groupedby=month_genre_roi_title.groupby(['genre_ids','month']).sum()"
   ]
  },
  {
   "cell_type": "code",
   "execution_count": null,
   "metadata": {},
   "outputs": [],
   "source": [
    "groupedby"
   ]
  },
  {
   "cell_type": "markdown",
   "metadata": {},
   "source": [
    "#trying to figure out how to get director/writer data"
   ]
  },
  {
   "cell_type": "code",
   "execution_count": null,
   "metadata": {
    "scrolled": true
   },
   "outputs": [],
   "source": [
    "movie_info_dataframe = pd.read_table('zippedData/rt.movie_info.tsv.gz')\n",
    "movie_info_dataframe.head()"
   ]
  },
  {
   "cell_type": "code",
   "execution_count": null,
   "metadata": {},
   "outputs": [],
   "source": [
    "rotten_tomato = pd.read_csv('zippedData/rt.reviews.tsv.gz', sep='\\t', encoding='latin-1')\n",
    "rotten_tomato"
   ]
  },
  {
   "cell_type": "code",
   "execution_count": null,
   "metadata": {},
   "outputs": [],
   "source": [
    "title_principal=pd.read_csv('zippedData/imdb.title.principals.csv.gz')\n",
    "title_principal"
   ]
  },
  {
   "cell_type": "code",
   "execution_count": null,
   "metadata": {},
   "outputs": [],
   "source": [
    "title_principal_directors=title_principal[title_principal['category'] == 'director']\n",
    "title_principal_directors"
   ]
  },
  {
   "cell_type": "code",
   "execution_count": null,
   "metadata": {},
   "outputs": [],
   "source": [
    "name_basics=pd.read_csv('zippedData/imdb.name.basics.csv.gz')\n",
    "name_basics"
   ]
  },
  {
   "cell_type": "code",
   "execution_count": null,
   "metadata": {},
   "outputs": [],
   "source": [
    "list(name_basics['nconst'])"
   ]
  },
  {
   "cell_type": "code",
   "execution_count": null,
   "metadata": {},
   "outputs": [],
   "source": [
    "list(name_basics['primary_name'])"
   ]
  },
  {
   "cell_type": "code",
   "execution_count": null,
   "metadata": {},
   "outputs": [],
   "source": [
    "nconst_to_name=dict(zip(list(name_basics['nconst']),list(name_basics['primary_name'])))"
   ]
  },
  {
   "cell_type": "code",
   "execution_count": null,
   "metadata": {},
   "outputs": [],
   "source": [
    "title_principal_directors['director_name']=title_principal_directors['nconst']\n"
   ]
  },
  {
   "cell_type": "code",
   "execution_count": null,
   "metadata": {
    "scrolled": true
   },
   "outputs": [],
   "source": [
    "title_principal_directors['director_name']=title_principal_directors['nconst'].map(nconst_to_name)"
   ]
  },
  {
   "cell_type": "code",
   "execution_count": null,
   "metadata": {},
   "outputs": [],
   "source": []
  },
  {
   "cell_type": "code",
   "execution_count": null,
   "metadata": {
    "scrolled": true
   },
   "outputs": [],
   "source": [
    "title_principal_directors"
   ]
  },
  {
   "cell_type": "code",
   "execution_count": null,
   "metadata": {
    "scrolled": true
   },
   "outputs": [],
   "source": [
    "title_crew=pd.read_csv('zippedData/imdb.title.crew.csv.gz')\n",
    "title_crew"
   ]
  },
  {
   "cell_type": "code",
   "execution_count": null,
   "metadata": {},
   "outputs": [],
   "source": [
    "title_basics"
   ]
  },
  {
   "cell_type": "code",
   "execution_count": null,
   "metadata": {},
   "outputs": [],
   "source": [
    "title_basics_"
   ]
  },
  {
   "cell_type": "code",
   "execution_count": null,
   "metadata": {},
   "outputs": [],
   "source": [
    "title_ratings"
   ]
  },
  {
   "cell_type": "code",
   "execution_count": null,
   "metadata": {},
   "outputs": [],
   "source": [
    "name_basics=pd.read_csv('zippedData/imdb.title.principals.csv.gz')\n",
    "name_basics"
   ]
  },
  {
   "cell_type": "code",
   "execution_count": null,
   "metadata": {
    "scrolled": true
   },
   "outputs": [],
   "source": [
    "groupedby['ROI']"
   ]
  }
 ],
 "metadata": {
  "kernelspec": {
   "display_name": "Python 3",
   "language": "python",
   "name": "python3"
  },
  "language_info": {
   "codemirror_mode": {
    "name": "ipython",
    "version": 3
   },
   "file_extension": ".py",
   "mimetype": "text/x-python",
   "name": "python",
   "nbconvert_exporter": "python",
   "pygments_lexer": "ipython3",
   "version": "3.8.5"
  }
 },
 "nbformat": 4,
 "nbformat_minor": 4
}
