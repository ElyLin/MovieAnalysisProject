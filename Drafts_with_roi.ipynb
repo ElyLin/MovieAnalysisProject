{
 "cells": [
  {
   "cell_type": "code",
   "execution_count": 77,
   "metadata": {},
   "outputs": [],
   "source": [
    "import pandas as pd\n",
    "import matplotlib.pyplot as plt\n",
    "import seaborn as sns"
   ]
  },
  {
   "cell_type": "code",
   "execution_count": 78,
   "metadata": {},
   "outputs": [],
   "source": [
    "movie_budgets_df = pd.read_csv('tn.movie_budgets.csv.gz') #Michael's from Rotten Tomatos \n",
    "movie_studios = pd.read_csv('bom.movie_gross.csv.gz')     #Teigen's from Box Office Mojo \n",
    "title_basics = pd.read_csv('imdb.title.basics.csv.gz')    #Louis' from basics IMDB\n",
    "title_ratings = pd.read_csv('imdb.title.ratings.csv.gz')  #Louis' ratings from IMDB\n",
    "tmdb = pd.read_csv('tmdb.movies.csv.gz')                  #Ely's from TMDB"
   ]
  },
  {
   "cell_type": "code",
   "execution_count": 79,
   "metadata": {},
   "outputs": [],
   "source": [
    "movie_info_dataframe = pd.read_table('rt.movie_info.tsv.gz')"
   ]
  },
  {
   "cell_type": "code",
   "execution_count": 80,
   "metadata": {},
   "outputs": [],
   "source": [
    "#Ely's innitial cleaning TMDB \n",
    "genres={'28':\"Action\",\n",
    "'12':\"Adventure\",\n",
    "'16':\"Animation\",\n",
    "'35':\"Comedy\",\n",
    "'80':\"Crime\",\n",
    "'99':\"Documentary\",\n",
    "'18':\"Drama\",\n",
    "'10751':\"Family\",\n",
    "'14':\"Fantasy\",\n",
    "'36':\"History\",\n",
    "'27':\"Horror\",\n",
    "'10402':\"Music\",\n",
    "'9648':\"Mystery\",\n",
    "'10749':\"Romance\",\n",
    "'878':\"Science Fiction\",\n",
    "'10770':\"TV Movie\",\n",
    "'53':\"Thriller\",\n",
    "'10752':\"War\",\n",
    "'37':\"Western\"}\n",
    "\n",
    "tmdb = tmdb.replace(pd.Series(genres).astype(str), regex=True)\n",
    "tmdb['genre_ids']=tmdb['genre_ids'].str.strip('[]').str.split(', ')\n"
   ]
  },
  {
   "cell_type": "code",
   "execution_count": 81,
   "metadata": {},
   "outputs": [],
   "source": [
    "#IMDB merge\n",
    "title_master = title_basics.merge(title_ratings, how='inner')"
   ]
  },
  {
   "cell_type": "code",
   "execution_count": 82,
   "metadata": {},
   "outputs": [],
   "source": [
    "louis_and_ely = tmdb.merge(title_master, how = 'inner')"
   ]
  },
  {
   "cell_type": "code",
   "execution_count": 83,
   "metadata": {},
   "outputs": [],
   "source": [
    "louis_and_ely_and_teigen = louis_and_ely.merge(movie_studios, how = 'inner')\n"
   ]
  },
  {
   "cell_type": "code",
   "execution_count": 84,
   "metadata": {},
   "outputs": [],
   "source": [
    "let = louis_and_ely_and_teigen.drop(['domestic_gross', 'foreign_gross'], axis = 1)\n"
   ]
  },
  {
   "cell_type": "code",
   "execution_count": 85,
   "metadata": {},
   "outputs": [],
   "source": [
    "let = louis_and_ely_and_teigen.drop(['domestic_gross', 'foreign_gross'], axis = 1)"
   ]
  },
  {
   "cell_type": "code",
   "execution_count": 86,
   "metadata": {},
   "outputs": [],
   "source": [
    "movie_budgets_df = movie_budgets_df.rename(columns={'movie':'title'})"
   ]
  },
  {
   "cell_type": "code",
   "execution_count": 87,
   "metadata": {
    "scrolled": true
   },
   "outputs": [],
   "source": [
    "master_unclean = let.merge(movie_budgets_df, on = 'title', how = 'inner')"
   ]
  },
  {
   "cell_type": "code",
   "execution_count": 88,
   "metadata": {},
   "outputs": [
    {
     "name": "stdout",
     "output_type": "stream",
     "text": [
      "<class 'pandas.core.frame.DataFrame'>\n",
      "Int64Index: 1665 entries, 0 to 1664\n",
      "Data columns (total 24 columns):\n",
      " #   Column             Non-Null Count  Dtype  \n",
      "---  ------             --------------  -----  \n",
      " 0   Unnamed: 0         1665 non-null   int64  \n",
      " 1   genre_ids          1665 non-null   object \n",
      " 2   id_x               1665 non-null   int64  \n",
      " 3   original_language  1665 non-null   object \n",
      " 4   original_title     1665 non-null   object \n",
      " 5   popularity         1665 non-null   float64\n",
      " 6   release_date_x     1665 non-null   object \n",
      " 7   title              1665 non-null   object \n",
      " 8   vote_average       1665 non-null   float64\n",
      " 9   vote_count         1665 non-null   int64  \n",
      " 10  tconst             1665 non-null   object \n",
      " 11  primary_title      1665 non-null   object \n",
      " 12  start_year         1665 non-null   int64  \n",
      " 13  runtime_minutes    1631 non-null   float64\n",
      " 14  genres             1659 non-null   object \n",
      " 15  averagerating      1665 non-null   float64\n",
      " 16  numvotes           1665 non-null   int64  \n",
      " 17  studio             1665 non-null   object \n",
      " 18  year               1665 non-null   int64  \n",
      " 19  id_y               1665 non-null   int64  \n",
      " 20  release_date_y     1665 non-null   object \n",
      " 21  production_budget  1665 non-null   object \n",
      " 22  domestic_gross     1665 non-null   object \n",
      " 23  worldwide_gross    1665 non-null   object \n",
      "dtypes: float64(4), int64(7), object(13)\n",
      "memory usage: 325.2+ KB\n"
     ]
    }
   ],
   "source": [
    "master_unclean.info()"
   ]
  },
  {
   "cell_type": "code",
   "execution_count": 89,
   "metadata": {
    "scrolled": false
   },
   "outputs": [
    {
     "data": {
      "text/plain": [
       "count     1665.000000\n",
       "mean      2162.216216\n",
       "std       2876.171747\n",
       "min          1.000000\n",
       "25%        353.000000\n",
       "50%       1098.000000\n",
       "75%       2715.000000\n",
       "max      22186.000000\n",
       "Name: vote_count, dtype: float64"
      ]
     },
     "execution_count": 89,
     "metadata": {},
     "output_type": "execute_result"
    }
   ],
   "source": [
    "master_unclean['vote_count'].describe()"
   ]
  },
  {
   "cell_type": "code",
   "execution_count": 90,
   "metadata": {},
   "outputs": [],
   "source": [
    "run_time = master_unclean.loc[(master_unclean['runtime_minutes'] > 30) & (master_unclean['runtime_minutes'] < 180)]"
   ]
  },
  {
   "cell_type": "code",
   "execution_count": 91,
   "metadata": {},
   "outputs": [],
   "source": [
    "less_columns = master_unclean.drop(['Unnamed: 0', 'id_x', 'original_title', 'tconst', 'start_year', 'id_y', 'genres', 'release_date_x', 'primary_title'], axis = 1)"
   ]
  },
  {
   "cell_type": "code",
   "execution_count": 92,
   "metadata": {},
   "outputs": [
    {
     "data": {
      "text/plain": [
       "(1665, 15)"
      ]
     },
     "execution_count": 92,
     "metadata": {},
     "output_type": "execute_result"
    }
   ],
   "source": [
    "less_columns.shape"
   ]
  },
  {
   "cell_type": "code",
   "execution_count": 93,
   "metadata": {},
   "outputs": [],
   "source": [
    "less_columns=less_columns.loc[less_columns['year'] >= 2014]"
   ]
  },
  {
   "cell_type": "code",
   "execution_count": 94,
   "metadata": {},
   "outputs": [
    {
     "data": {
      "text/plain": [
       "(982, 15)"
      ]
     },
     "execution_count": 94,
     "metadata": {},
     "output_type": "execute_result"
    }
   ],
   "source": [
    "less_columns.shape"
   ]
  },
  {
   "cell_type": "code",
   "execution_count": 95,
   "metadata": {},
   "outputs": [],
   "source": [
    "less_columns=less_columns.drop(['year'], axis=1)"
   ]
  },
  {
   "cell_type": "code",
   "execution_count": 96,
   "metadata": {
    "scrolled": true
   },
   "outputs": [
    {
     "data": {
      "text/html": [
       "<div>\n",
       "<style scoped>\n",
       "    .dataframe tbody tr th:only-of-type {\n",
       "        vertical-align: middle;\n",
       "    }\n",
       "\n",
       "    .dataframe tbody tr th {\n",
       "        vertical-align: top;\n",
       "    }\n",
       "\n",
       "    .dataframe thead th {\n",
       "        text-align: right;\n",
       "    }\n",
       "</style>\n",
       "<table border=\"1\" class=\"dataframe\">\n",
       "  <thead>\n",
       "    <tr style=\"text-align: right;\">\n",
       "      <th></th>\n",
       "      <th>genre_ids</th>\n",
       "      <th>original_language</th>\n",
       "      <th>popularity</th>\n",
       "      <th>title</th>\n",
       "      <th>vote_average</th>\n",
       "      <th>vote_count</th>\n",
       "      <th>runtime_minutes</th>\n",
       "      <th>averagerating</th>\n",
       "      <th>numvotes</th>\n",
       "      <th>studio</th>\n",
       "      <th>release_date_y</th>\n",
       "      <th>production_budget</th>\n",
       "      <th>domestic_gross</th>\n",
       "      <th>worldwide_gross</th>\n",
       "    </tr>\n",
       "  </thead>\n",
       "  <tbody>\n",
       "    <tr>\n",
       "      <th>169</th>\n",
       "      <td>[Drama, Mystery, Romance]</td>\n",
       "      <td>en</td>\n",
       "      <td>6.824</td>\n",
       "      <td>Shanghai</td>\n",
       "      <td>6.1</td>\n",
       "      <td>80</td>\n",
       "      <td>105.0</td>\n",
       "      <td>6.4</td>\n",
       "      <td>8662</td>\n",
       "      <td>Wein.</td>\n",
       "      <td>Oct 2, 2015</td>\n",
       "      <td>$50,000,000</td>\n",
       "      <td>$46,425</td>\n",
       "      <td>$15,505,922</td>\n",
       "    </tr>\n",
       "    <tr>\n",
       "      <th>170</th>\n",
       "      <td>[Drama, Mystery, Romance]</td>\n",
       "      <td>en</td>\n",
       "      <td>6.824</td>\n",
       "      <td>Shanghai</td>\n",
       "      <td>6.1</td>\n",
       "      <td>80</td>\n",
       "      <td>120.0</td>\n",
       "      <td>7.2</td>\n",
       "      <td>9047</td>\n",
       "      <td>Wein.</td>\n",
       "      <td>Oct 2, 2015</td>\n",
       "      <td>$50,000,000</td>\n",
       "      <td>$46,425</td>\n",
       "      <td>$15,505,922</td>\n",
       "    </tr>\n",
       "    <tr>\n",
       "      <th>193</th>\n",
       "      <td>[Science Fiction]</td>\n",
       "      <td>en</td>\n",
       "      <td>2.172</td>\n",
       "      <td>Pixels</td>\n",
       "      <td>7.1</td>\n",
       "      <td>35</td>\n",
       "      <td>105.0</td>\n",
       "      <td>5.6</td>\n",
       "      <td>119789</td>\n",
       "      <td>Sony</td>\n",
       "      <td>Jul 24, 2015</td>\n",
       "      <td>$90,000,000</td>\n",
       "      <td>$78,765,986</td>\n",
       "      <td>$244,041,804</td>\n",
       "    </tr>\n",
       "    <tr>\n",
       "      <th>194</th>\n",
       "      <td>[Action, Comedy, Science Fiction]</td>\n",
       "      <td>en</td>\n",
       "      <td>23.029</td>\n",
       "      <td>Pixels</td>\n",
       "      <td>5.6</td>\n",
       "      <td>4423</td>\n",
       "      <td>105.0</td>\n",
       "      <td>5.6</td>\n",
       "      <td>119789</td>\n",
       "      <td>Sony</td>\n",
       "      <td>Jul 24, 2015</td>\n",
       "      <td>$90,000,000</td>\n",
       "      <td>$78,765,986</td>\n",
       "      <td>$244,041,804</td>\n",
       "    </tr>\n",
       "    <tr>\n",
       "      <th>195</th>\n",
       "      <td>[Comedy, Animation]</td>\n",
       "      <td>en</td>\n",
       "      <td>0.834</td>\n",
       "      <td>Get Out</td>\n",
       "      <td>5.5</td>\n",
       "      <td>8</td>\n",
       "      <td>104.0</td>\n",
       "      <td>7.7</td>\n",
       "      <td>400474</td>\n",
       "      <td>Uni.</td>\n",
       "      <td>Feb 24, 2017</td>\n",
       "      <td>$5,000,000</td>\n",
       "      <td>$176,040,665</td>\n",
       "      <td>$255,367,951</td>\n",
       "    </tr>\n",
       "    <tr>\n",
       "      <th>...</th>\n",
       "      <td>...</td>\n",
       "      <td>...</td>\n",
       "      <td>...</td>\n",
       "      <td>...</td>\n",
       "      <td>...</td>\n",
       "      <td>...</td>\n",
       "      <td>...</td>\n",
       "      <td>...</td>\n",
       "      <td>...</td>\n",
       "      <td>...</td>\n",
       "      <td>...</td>\n",
       "      <td>...</td>\n",
       "      <td>...</td>\n",
       "      <td>...</td>\n",
       "    </tr>\n",
       "    <tr>\n",
       "      <th>1660</th>\n",
       "      <td>[Drama, History, Thriller]</td>\n",
       "      <td>en</td>\n",
       "      <td>11.576</td>\n",
       "      <td>The 15:17 to Paris</td>\n",
       "      <td>5.3</td>\n",
       "      <td>799</td>\n",
       "      <td>94.0</td>\n",
       "      <td>5.2</td>\n",
       "      <td>21880</td>\n",
       "      <td>WB</td>\n",
       "      <td>Feb 9, 2018</td>\n",
       "      <td>$30,000,000</td>\n",
       "      <td>$36,276,286</td>\n",
       "      <td>$56,096,200</td>\n",
       "    </tr>\n",
       "    <tr>\n",
       "      <th>1661</th>\n",
       "      <td>[Comedy]</td>\n",
       "      <td>en</td>\n",
       "      <td>10.836</td>\n",
       "      <td>Uncle Drew</td>\n",
       "      <td>6.5</td>\n",
       "      <td>220</td>\n",
       "      <td>103.0</td>\n",
       "      <td>5.7</td>\n",
       "      <td>9739</td>\n",
       "      <td>LG/S</td>\n",
       "      <td>Jun 29, 2018</td>\n",
       "      <td>$18,000,000</td>\n",
       "      <td>$42,469,946</td>\n",
       "      <td>$46,527,161</td>\n",
       "    </tr>\n",
       "    <tr>\n",
       "      <th>1662</th>\n",
       "      <td>[Crime, Drama, History, Thriller]</td>\n",
       "      <td>en</td>\n",
       "      <td>10.034</td>\n",
       "      <td>Gotti</td>\n",
       "      <td>5.2</td>\n",
       "      <td>231</td>\n",
       "      <td>112.0</td>\n",
       "      <td>4.8</td>\n",
       "      <td>10358</td>\n",
       "      <td>VE</td>\n",
       "      <td>Jun 15, 2018</td>\n",
       "      <td>$10,000,000</td>\n",
       "      <td>$4,286,367</td>\n",
       "      <td>$6,089,100</td>\n",
       "    </tr>\n",
       "    <tr>\n",
       "      <th>1663</th>\n",
       "      <td>[Thriller, Action, Crime]</td>\n",
       "      <td>en</td>\n",
       "      <td>9.371</td>\n",
       "      <td>Proud Mary</td>\n",
       "      <td>5.5</td>\n",
       "      <td>259</td>\n",
       "      <td>89.0</td>\n",
       "      <td>4.9</td>\n",
       "      <td>6805</td>\n",
       "      <td>SGem</td>\n",
       "      <td>Jan 12, 2018</td>\n",
       "      <td>$30,000,000</td>\n",
       "      <td>$20,868,638</td>\n",
       "      <td>$21,709,539</td>\n",
       "    </tr>\n",
       "    <tr>\n",
       "      <th>1664</th>\n",
       "      <td>[Action, Adventure, Animation]</td>\n",
       "      <td>en</td>\n",
       "      <td>2.707</td>\n",
       "      <td>Bilal: A New Breed of Hero</td>\n",
       "      <td>6.8</td>\n",
       "      <td>54</td>\n",
       "      <td>105.0</td>\n",
       "      <td>8.0</td>\n",
       "      <td>16854</td>\n",
       "      <td>VE</td>\n",
       "      <td>Feb 2, 2018</td>\n",
       "      <td>$30,000,000</td>\n",
       "      <td>$490,973</td>\n",
       "      <td>$648,599</td>\n",
       "    </tr>\n",
       "  </tbody>\n",
       "</table>\n",
       "<p>982 rows × 14 columns</p>\n",
       "</div>"
      ],
      "text/plain": [
       "                              genre_ids original_language  popularity  \\\n",
       "169           [Drama, Mystery, Romance]                en       6.824   \n",
       "170           [Drama, Mystery, Romance]                en       6.824   \n",
       "193                   [Science Fiction]                en       2.172   \n",
       "194   [Action, Comedy, Science Fiction]                en      23.029   \n",
       "195                 [Comedy, Animation]                en       0.834   \n",
       "...                                 ...               ...         ...   \n",
       "1660         [Drama, History, Thriller]                en      11.576   \n",
       "1661                           [Comedy]                en      10.836   \n",
       "1662  [Crime, Drama, History, Thriller]                en      10.034   \n",
       "1663          [Thriller, Action, Crime]                en       9.371   \n",
       "1664     [Action, Adventure, Animation]                en       2.707   \n",
       "\n",
       "                           title  vote_average  vote_count  runtime_minutes  \\\n",
       "169                     Shanghai           6.1          80            105.0   \n",
       "170                     Shanghai           6.1          80            120.0   \n",
       "193                       Pixels           7.1          35            105.0   \n",
       "194                       Pixels           5.6        4423            105.0   \n",
       "195                      Get Out           5.5           8            104.0   \n",
       "...                          ...           ...         ...              ...   \n",
       "1660          The 15:17 to Paris           5.3         799             94.0   \n",
       "1661                  Uncle Drew           6.5         220            103.0   \n",
       "1662                       Gotti           5.2         231            112.0   \n",
       "1663                  Proud Mary           5.5         259             89.0   \n",
       "1664  Bilal: A New Breed of Hero           6.8          54            105.0   \n",
       "\n",
       "      averagerating  numvotes studio release_date_y production_budget  \\\n",
       "169             6.4      8662  Wein.    Oct 2, 2015       $50,000,000   \n",
       "170             7.2      9047  Wein.    Oct 2, 2015       $50,000,000   \n",
       "193             5.6    119789   Sony   Jul 24, 2015       $90,000,000   \n",
       "194             5.6    119789   Sony   Jul 24, 2015       $90,000,000   \n",
       "195             7.7    400474   Uni.   Feb 24, 2017        $5,000,000   \n",
       "...             ...       ...    ...            ...               ...   \n",
       "1660            5.2     21880     WB    Feb 9, 2018       $30,000,000   \n",
       "1661            5.7      9739   LG/S   Jun 29, 2018       $18,000,000   \n",
       "1662            4.8     10358     VE   Jun 15, 2018       $10,000,000   \n",
       "1663            4.9      6805   SGem   Jan 12, 2018       $30,000,000   \n",
       "1664            8.0     16854     VE    Feb 2, 2018       $30,000,000   \n",
       "\n",
       "     domestic_gross worldwide_gross  \n",
       "169         $46,425     $15,505,922  \n",
       "170         $46,425     $15,505,922  \n",
       "193     $78,765,986    $244,041,804  \n",
       "194     $78,765,986    $244,041,804  \n",
       "195    $176,040,665    $255,367,951  \n",
       "...             ...             ...  \n",
       "1660    $36,276,286     $56,096,200  \n",
       "1661    $42,469,946     $46,527,161  \n",
       "1662     $4,286,367      $6,089,100  \n",
       "1663    $20,868,638     $21,709,539  \n",
       "1664       $490,973        $648,599  \n",
       "\n",
       "[982 rows x 14 columns]"
      ]
     },
     "execution_count": 96,
     "metadata": {},
     "output_type": "execute_result"
    }
   ],
   "source": [
    "less_columns"
   ]
  },
  {
   "cell_type": "code",
   "execution_count": 97,
   "metadata": {},
   "outputs": [],
   "source": [
    "#clean up budget and gross numbers, add the return on investment column\n",
    "less_columns['production_budget'] = less_columns['production_budget'].str.replace(',', '')\n",
    "less_columns['production_budget'] = less_columns['production_budget'].str.replace('$', '')\n",
    "less_columns['production_budget'] = less_columns['production_budget'].astype(int)\n",
    "less_columns['domestic_gross'] = less_columns['domestic_gross'].str.replace(',', '').str.replace('$', '')\n",
    "less_columns['domestic_gross'] = less_columns['domestic_gross'].astype(int)\n",
    "less_columns['worldwide_gross'] = less_columns['worldwide_gross'].str.replace(',', '').str.replace('$', '')\n",
    "less_columns['worldwide_gross'] = less_columns['worldwide_gross'].astype(int)\n",
    "less_columns['total_gross'] = less_columns['domestic_gross'] + less_columns['worldwide_gross']\n",
    "less_columns['ROI'] = (less_columns['total_gross'] / less_columns['production_budget']) * 100"
   ]
  },
  {
   "cell_type": "code",
   "execution_count": 113,
   "metadata": {},
   "outputs": [
    {
     "data": {
      "text/plain": [
       "(982, 16)"
      ]
     },
     "execution_count": 113,
     "metadata": {},
     "output_type": "execute_result"
    }
   ],
   "source": [
    "less_columns.shape"
   ]
  },
  {
   "cell_type": "code",
   "execution_count": 114,
   "metadata": {
    "scrolled": false
   },
   "outputs": [
    {
     "data": {
      "text/html": [
       "<div>\n",
       "<style scoped>\n",
       "    .dataframe tbody tr th:only-of-type {\n",
       "        vertical-align: middle;\n",
       "    }\n",
       "\n",
       "    .dataframe tbody tr th {\n",
       "        vertical-align: top;\n",
       "    }\n",
       "\n",
       "    .dataframe thead th {\n",
       "        text-align: right;\n",
       "    }\n",
       "</style>\n",
       "<table border=\"1\" class=\"dataframe\">\n",
       "  <thead>\n",
       "    <tr style=\"text-align: right;\">\n",
       "      <th></th>\n",
       "      <th>genre_ids</th>\n",
       "      <th>original_language</th>\n",
       "      <th>popularity</th>\n",
       "      <th>title</th>\n",
       "      <th>vote_average</th>\n",
       "      <th>vote_count</th>\n",
       "      <th>runtime_minutes</th>\n",
       "      <th>averagerating</th>\n",
       "      <th>numvotes</th>\n",
       "      <th>studio</th>\n",
       "      <th>release_date_y</th>\n",
       "      <th>production_budget</th>\n",
       "      <th>domestic_gross</th>\n",
       "      <th>worldwide_gross</th>\n",
       "      <th>total_gross</th>\n",
       "      <th>ROI</th>\n",
       "    </tr>\n",
       "  </thead>\n",
       "  <tbody>\n",
       "    <tr>\n",
       "      <th>169</th>\n",
       "      <td>[Drama, Mystery, Romance]</td>\n",
       "      <td>en</td>\n",
       "      <td>6.824</td>\n",
       "      <td>Shanghai</td>\n",
       "      <td>6.1</td>\n",
       "      <td>80</td>\n",
       "      <td>105.0</td>\n",
       "      <td>6.4</td>\n",
       "      <td>8662</td>\n",
       "      <td>Wein.</td>\n",
       "      <td>Oct 2, 2015</td>\n",
       "      <td>50000000</td>\n",
       "      <td>46425</td>\n",
       "      <td>15505922</td>\n",
       "      <td>15552347</td>\n",
       "      <td>31.104694</td>\n",
       "    </tr>\n",
       "    <tr>\n",
       "      <th>170</th>\n",
       "      <td>[Drama, Mystery, Romance]</td>\n",
       "      <td>en</td>\n",
       "      <td>6.824</td>\n",
       "      <td>Shanghai</td>\n",
       "      <td>6.1</td>\n",
       "      <td>80</td>\n",
       "      <td>120.0</td>\n",
       "      <td>7.2</td>\n",
       "      <td>9047</td>\n",
       "      <td>Wein.</td>\n",
       "      <td>Oct 2, 2015</td>\n",
       "      <td>50000000</td>\n",
       "      <td>46425</td>\n",
       "      <td>15505922</td>\n",
       "      <td>15552347</td>\n",
       "      <td>31.104694</td>\n",
       "    </tr>\n",
       "    <tr>\n",
       "      <th>193</th>\n",
       "      <td>[Science Fiction]</td>\n",
       "      <td>en</td>\n",
       "      <td>2.172</td>\n",
       "      <td>Pixels</td>\n",
       "      <td>7.1</td>\n",
       "      <td>35</td>\n",
       "      <td>105.0</td>\n",
       "      <td>5.6</td>\n",
       "      <td>119789</td>\n",
       "      <td>Sony</td>\n",
       "      <td>Jul 24, 2015</td>\n",
       "      <td>90000000</td>\n",
       "      <td>78765986</td>\n",
       "      <td>244041804</td>\n",
       "      <td>322807790</td>\n",
       "      <td>358.675322</td>\n",
       "    </tr>\n",
       "  </tbody>\n",
       "</table>\n",
       "</div>"
      ],
      "text/plain": [
       "                     genre_ids original_language  popularity     title  \\\n",
       "169  [Drama, Mystery, Romance]                en       6.824  Shanghai   \n",
       "170  [Drama, Mystery, Romance]                en       6.824  Shanghai   \n",
       "193          [Science Fiction]                en       2.172    Pixels   \n",
       "\n",
       "     vote_average  vote_count  runtime_minutes  averagerating  numvotes  \\\n",
       "169           6.1          80            105.0            6.4      8662   \n",
       "170           6.1          80            120.0            7.2      9047   \n",
       "193           7.1          35            105.0            5.6    119789   \n",
       "\n",
       "    studio release_date_y  production_budget  domestic_gross  worldwide_gross  \\\n",
       "169  Wein.    Oct 2, 2015           50000000           46425         15505922   \n",
       "170  Wein.    Oct 2, 2015           50000000           46425         15505922   \n",
       "193   Sony   Jul 24, 2015           90000000        78765986        244041804   \n",
       "\n",
       "     total_gross         ROI  \n",
       "169     15552347   31.104694  \n",
       "170     15552347   31.104694  \n",
       "193    322807790  358.675322  "
      ]
     },
     "execution_count": 114,
     "metadata": {},
     "output_type": "execute_result"
    }
   ],
   "source": [
    "less_columns.head(3)"
   ]
  },
  {
   "cell_type": "code",
   "execution_count": 100,
   "metadata": {
    "scrolled": true
   },
   "outputs": [
    {
     "data": {
      "text/html": [
       "<div>\n",
       "<style scoped>\n",
       "    .dataframe tbody tr th:only-of-type {\n",
       "        vertical-align: middle;\n",
       "    }\n",
       "\n",
       "    .dataframe tbody tr th {\n",
       "        vertical-align: top;\n",
       "    }\n",
       "\n",
       "    .dataframe thead th {\n",
       "        text-align: right;\n",
       "    }\n",
       "</style>\n",
       "<table border=\"1\" class=\"dataframe\">\n",
       "  <thead>\n",
       "    <tr style=\"text-align: right;\">\n",
       "      <th></th>\n",
       "      <th>popularity</th>\n",
       "      <th>vote_average</th>\n",
       "      <th>vote_count</th>\n",
       "      <th>runtime_minutes</th>\n",
       "      <th>averagerating</th>\n",
       "      <th>numvotes</th>\n",
       "      <th>production_budget</th>\n",
       "      <th>domestic_gross</th>\n",
       "      <th>worldwide_gross</th>\n",
       "      <th>total_gross</th>\n",
       "      <th>ROI</th>\n",
       "    </tr>\n",
       "  </thead>\n",
       "  <tbody>\n",
       "    <tr>\n",
       "      <th>popularity</th>\n",
       "      <td>1.000000</td>\n",
       "      <td>0.314026</td>\n",
       "      <td>0.705657</td>\n",
       "      <td>0.278883</td>\n",
       "      <td>0.259646</td>\n",
       "      <td>0.552173</td>\n",
       "      <td>0.556295</td>\n",
       "      <td>0.474752</td>\n",
       "      <td>0.542323</td>\n",
       "      <td>0.529690</td>\n",
       "      <td>-0.041226</td>\n",
       "    </tr>\n",
       "    <tr>\n",
       "      <th>vote_average</th>\n",
       "      <td>0.314026</td>\n",
       "      <td>1.000000</td>\n",
       "      <td>0.376369</td>\n",
       "      <td>0.219007</td>\n",
       "      <td>0.477633</td>\n",
       "      <td>0.335867</td>\n",
       "      <td>0.145070</td>\n",
       "      <td>0.190484</td>\n",
       "      <td>0.195435</td>\n",
       "      <td>0.196300</td>\n",
       "      <td>-0.055620</td>\n",
       "    </tr>\n",
       "    <tr>\n",
       "      <th>vote_count</th>\n",
       "      <td>0.705657</td>\n",
       "      <td>0.376369</td>\n",
       "      <td>1.000000</td>\n",
       "      <td>0.252893</td>\n",
       "      <td>0.325207</td>\n",
       "      <td>0.778193</td>\n",
       "      <td>0.574085</td>\n",
       "      <td>0.665014</td>\n",
       "      <td>0.702411</td>\n",
       "      <td>0.700046</td>\n",
       "      <td>0.048027</td>\n",
       "    </tr>\n",
       "    <tr>\n",
       "      <th>runtime_minutes</th>\n",
       "      <td>0.278883</td>\n",
       "      <td>0.219007</td>\n",
       "      <td>0.252893</td>\n",
       "      <td>1.000000</td>\n",
       "      <td>0.281240</td>\n",
       "      <td>0.425108</td>\n",
       "      <td>0.238745</td>\n",
       "      <td>0.130989</td>\n",
       "      <td>0.181288</td>\n",
       "      <td>0.169319</td>\n",
       "      <td>-0.082851</td>\n",
       "    </tr>\n",
       "    <tr>\n",
       "      <th>averagerating</th>\n",
       "      <td>0.259646</td>\n",
       "      <td>0.477633</td>\n",
       "      <td>0.325207</td>\n",
       "      <td>0.281240</td>\n",
       "      <td>1.000000</td>\n",
       "      <td>0.447844</td>\n",
       "      <td>0.154546</td>\n",
       "      <td>0.184355</td>\n",
       "      <td>0.194293</td>\n",
       "      <td>0.193752</td>\n",
       "      <td>-0.106495</td>\n",
       "    </tr>\n",
       "    <tr>\n",
       "      <th>numvotes</th>\n",
       "      <td>0.552173</td>\n",
       "      <td>0.335867</td>\n",
       "      <td>0.778193</td>\n",
       "      <td>0.425108</td>\n",
       "      <td>0.447844</td>\n",
       "      <td>1.000000</td>\n",
       "      <td>0.494681</td>\n",
       "      <td>0.553210</td>\n",
       "      <td>0.580764</td>\n",
       "      <td>0.579748</td>\n",
       "      <td>0.017424</td>\n",
       "    </tr>\n",
       "    <tr>\n",
       "      <th>production_budget</th>\n",
       "      <td>0.556295</td>\n",
       "      <td>0.145070</td>\n",
       "      <td>0.574085</td>\n",
       "      <td>0.238745</td>\n",
       "      <td>0.154546</td>\n",
       "      <td>0.494681</td>\n",
       "      <td>1.000000</td>\n",
       "      <td>0.690456</td>\n",
       "      <td>0.792134</td>\n",
       "      <td>0.772850</td>\n",
       "      <td>-0.116885</td>\n",
       "    </tr>\n",
       "    <tr>\n",
       "      <th>domestic_gross</th>\n",
       "      <td>0.474752</td>\n",
       "      <td>0.190484</td>\n",
       "      <td>0.665014</td>\n",
       "      <td>0.130989</td>\n",
       "      <td>0.184355</td>\n",
       "      <td>0.553210</td>\n",
       "      <td>0.690456</td>\n",
       "      <td>1.000000</td>\n",
       "      <td>0.943432</td>\n",
       "      <td>0.970081</td>\n",
       "      <td>0.122116</td>\n",
       "    </tr>\n",
       "    <tr>\n",
       "      <th>worldwide_gross</th>\n",
       "      <td>0.542323</td>\n",
       "      <td>0.195435</td>\n",
       "      <td>0.702411</td>\n",
       "      <td>0.181288</td>\n",
       "      <td>0.194293</td>\n",
       "      <td>0.580764</td>\n",
       "      <td>0.792134</td>\n",
       "      <td>0.943432</td>\n",
       "      <td>1.000000</td>\n",
       "      <td>0.995704</td>\n",
       "      <td>0.079452</td>\n",
       "    </tr>\n",
       "    <tr>\n",
       "      <th>total_gross</th>\n",
       "      <td>0.529690</td>\n",
       "      <td>0.196300</td>\n",
       "      <td>0.700046</td>\n",
       "      <td>0.169319</td>\n",
       "      <td>0.193752</td>\n",
       "      <td>0.579748</td>\n",
       "      <td>0.772850</td>\n",
       "      <td>0.970081</td>\n",
       "      <td>0.995704</td>\n",
       "      <td>1.000000</td>\n",
       "      <td>0.092281</td>\n",
       "    </tr>\n",
       "    <tr>\n",
       "      <th>ROI</th>\n",
       "      <td>-0.041226</td>\n",
       "      <td>-0.055620</td>\n",
       "      <td>0.048027</td>\n",
       "      <td>-0.082851</td>\n",
       "      <td>-0.106495</td>\n",
       "      <td>0.017424</td>\n",
       "      <td>-0.116885</td>\n",
       "      <td>0.122116</td>\n",
       "      <td>0.079452</td>\n",
       "      <td>0.092281</td>\n",
       "      <td>1.000000</td>\n",
       "    </tr>\n",
       "  </tbody>\n",
       "</table>\n",
       "</div>"
      ],
      "text/plain": [
       "                   popularity  vote_average  vote_count  runtime_minutes  \\\n",
       "popularity           1.000000      0.314026    0.705657         0.278883   \n",
       "vote_average         0.314026      1.000000    0.376369         0.219007   \n",
       "vote_count           0.705657      0.376369    1.000000         0.252893   \n",
       "runtime_minutes      0.278883      0.219007    0.252893         1.000000   \n",
       "averagerating        0.259646      0.477633    0.325207         0.281240   \n",
       "numvotes             0.552173      0.335867    0.778193         0.425108   \n",
       "production_budget    0.556295      0.145070    0.574085         0.238745   \n",
       "domestic_gross       0.474752      0.190484    0.665014         0.130989   \n",
       "worldwide_gross      0.542323      0.195435    0.702411         0.181288   \n",
       "total_gross          0.529690      0.196300    0.700046         0.169319   \n",
       "ROI                 -0.041226     -0.055620    0.048027        -0.082851   \n",
       "\n",
       "                   averagerating  numvotes  production_budget  domestic_gross  \\\n",
       "popularity              0.259646  0.552173           0.556295        0.474752   \n",
       "vote_average            0.477633  0.335867           0.145070        0.190484   \n",
       "vote_count              0.325207  0.778193           0.574085        0.665014   \n",
       "runtime_minutes         0.281240  0.425108           0.238745        0.130989   \n",
       "averagerating           1.000000  0.447844           0.154546        0.184355   \n",
       "numvotes                0.447844  1.000000           0.494681        0.553210   \n",
       "production_budget       0.154546  0.494681           1.000000        0.690456   \n",
       "domestic_gross          0.184355  0.553210           0.690456        1.000000   \n",
       "worldwide_gross         0.194293  0.580764           0.792134        0.943432   \n",
       "total_gross             0.193752  0.579748           0.772850        0.970081   \n",
       "ROI                    -0.106495  0.017424          -0.116885        0.122116   \n",
       "\n",
       "                   worldwide_gross  total_gross       ROI  \n",
       "popularity                0.542323     0.529690 -0.041226  \n",
       "vote_average              0.195435     0.196300 -0.055620  \n",
       "vote_count                0.702411     0.700046  0.048027  \n",
       "runtime_minutes           0.181288     0.169319 -0.082851  \n",
       "averagerating             0.194293     0.193752 -0.106495  \n",
       "numvotes                  0.580764     0.579748  0.017424  \n",
       "production_budget         0.792134     0.772850 -0.116885  \n",
       "domestic_gross            0.943432     0.970081  0.122116  \n",
       "worldwide_gross           1.000000     0.995704  0.079452  \n",
       "total_gross               0.995704     1.000000  0.092281  \n",
       "ROI                       0.079452     0.092281  1.000000  "
      ]
     },
     "execution_count": 100,
     "metadata": {},
     "output_type": "execute_result"
    }
   ],
   "source": [
    "less_columns.corr()"
   ]
  },
  {
   "cell_type": "code",
   "execution_count": 101,
   "metadata": {},
   "outputs": [],
   "source": [
    "average_rating = less_columns['averagerating']\n",
    "movie_popularity = less_columns['popularity']"
   ]
  },
  {
   "cell_type": "code",
   "execution_count": 102,
   "metadata": {
    "scrolled": true
   },
   "outputs": [
    {
     "data": {
      "text/plain": [
       "0.2596463404361075"
      ]
     },
     "execution_count": 102,
     "metadata": {},
     "output_type": "execute_result"
    }
   ],
   "source": [
    "average_rating.corr(movie_popularity)"
   ]
  },
  {
   "cell_type": "code",
   "execution_count": 110,
   "metadata": {
    "scrolled": true
   },
   "outputs": [
    {
     "data": {
      "text/plain": [
       "Eden                          42\n",
       "Legend                        30\n",
       "Split                         24\n",
       "Truth or Dare                 20\n",
       "Nerve                         12\n",
       "                              ..\n",
       "A Haunted House 2              1\n",
       "If Beale Street Could Talk     1\n",
       "On the Basis of Sex            1\n",
       "3 Days to Kill                 1\n",
       "The Perfect Guy                1\n",
       "Name: title, Length: 574, dtype: int64"
      ]
     },
     "execution_count": 110,
     "metadata": {},
     "output_type": "execute_result"
    }
   ],
   "source": [
    "less_columns['title'].value_counts()"
   ]
  },
  {
   "cell_type": "code",
   "execution_count": 135,
   "metadata": {
    "scrolled": false
   },
   "outputs": [],
   "source": [
    "combined_df = pd.merge(less_columns, movie_info_dataframe, how='inner')"
   ]
  },
  {
   "cell_type": "code",
   "execution_count": 134,
   "metadata": {
    "collapsed": true
   },
   "outputs": [
    {
     "data": {
      "text/html": [
       "<div>\n",
       "<style scoped>\n",
       "    .dataframe tbody tr th:only-of-type {\n",
       "        vertical-align: middle;\n",
       "    }\n",
       "\n",
       "    .dataframe tbody tr th {\n",
       "        vertical-align: top;\n",
       "    }\n",
       "\n",
       "    .dataframe thead th {\n",
       "        text-align: right;\n",
       "    }\n",
       "</style>\n",
       "<table border=\"1\" class=\"dataframe\">\n",
       "  <thead>\n",
       "    <tr style=\"text-align: right;\">\n",
       "      <th></th>\n",
       "      <th>id</th>\n",
       "      <th>synopsis</th>\n",
       "      <th>rating</th>\n",
       "      <th>genre</th>\n",
       "      <th>director</th>\n",
       "      <th>writer</th>\n",
       "      <th>theater_date</th>\n",
       "      <th>dvd_date</th>\n",
       "      <th>currency</th>\n",
       "      <th>box_office</th>\n",
       "      <th>runtime</th>\n",
       "      <th>studio</th>\n",
       "    </tr>\n",
       "  </thead>\n",
       "  <tbody>\n",
       "    <tr>\n",
       "      <th>0</th>\n",
       "      <td>1</td>\n",
       "      <td>This gritty, fast-paced, and innovative police...</td>\n",
       "      <td>R</td>\n",
       "      <td>Action and Adventure|Classics|Drama</td>\n",
       "      <td>William Friedkin</td>\n",
       "      <td>Ernest Tidyman</td>\n",
       "      <td>Oct 9, 1971</td>\n",
       "      <td>Sep 25, 2001</td>\n",
       "      <td>NaN</td>\n",
       "      <td>NaN</td>\n",
       "      <td>104 minutes</td>\n",
       "      <td>NaN</td>\n",
       "    </tr>\n",
       "    <tr>\n",
       "      <th>1</th>\n",
       "      <td>3</td>\n",
       "      <td>New York City, not-too-distant-future: Eric Pa...</td>\n",
       "      <td>R</td>\n",
       "      <td>Drama|Science Fiction and Fantasy</td>\n",
       "      <td>David Cronenberg</td>\n",
       "      <td>David Cronenberg|Don DeLillo</td>\n",
       "      <td>Aug 17, 2012</td>\n",
       "      <td>Jan 1, 2013</td>\n",
       "      <td>$</td>\n",
       "      <td>600,000</td>\n",
       "      <td>108 minutes</td>\n",
       "      <td>Entertainment One</td>\n",
       "    </tr>\n",
       "  </tbody>\n",
       "</table>\n",
       "</div>"
      ],
      "text/plain": [
       "   id                                           synopsis rating  \\\n",
       "0   1  This gritty, fast-paced, and innovative police...      R   \n",
       "1   3  New York City, not-too-distant-future: Eric Pa...      R   \n",
       "\n",
       "                                 genre          director  \\\n",
       "0  Action and Adventure|Classics|Drama  William Friedkin   \n",
       "1    Drama|Science Fiction and Fantasy  David Cronenberg   \n",
       "\n",
       "                         writer  theater_date      dvd_date currency  \\\n",
       "0                Ernest Tidyman   Oct 9, 1971  Sep 25, 2001      NaN   \n",
       "1  David Cronenberg|Don DeLillo  Aug 17, 2012   Jan 1, 2013        $   \n",
       "\n",
       "  box_office      runtime             studio  \n",
       "0        NaN  104 minutes                NaN  \n",
       "1    600,000  108 minutes  Entertainment One  "
      ]
     },
     "execution_count": 134,
     "metadata": {},
     "output_type": "execute_result"
    }
   ],
   "source": [
    "movie_info_dataframe.head(2)"
   ]
  },
  {
   "cell_type": "code",
   "execution_count": 136,
   "metadata": {},
   "outputs": [
    {
     "data": {
      "text/plain": [
       "(209, 27)"
      ]
     },
     "execution_count": 136,
     "metadata": {},
     "output_type": "execute_result"
    }
   ],
   "source": [
    "combined_df.shape"
   ]
  },
  {
   "cell_type": "code",
   "execution_count": 133,
   "metadata": {},
   "outputs": [
    {
     "data": {
      "text/html": [
       "<div>\n",
       "<style scoped>\n",
       "    .dataframe tbody tr th:only-of-type {\n",
       "        vertical-align: middle;\n",
       "    }\n",
       "\n",
       "    .dataframe tbody tr th {\n",
       "        vertical-align: top;\n",
       "    }\n",
       "\n",
       "    .dataframe thead th {\n",
       "        text-align: right;\n",
       "    }\n",
       "</style>\n",
       "<table border=\"1\" class=\"dataframe\">\n",
       "  <thead>\n",
       "    <tr style=\"text-align: right;\">\n",
       "      <th></th>\n",
       "      <th>genre_ids</th>\n",
       "      <th>original_language</th>\n",
       "      <th>popularity</th>\n",
       "      <th>title</th>\n",
       "      <th>vote_average</th>\n",
       "      <th>vote_count</th>\n",
       "      <th>runtime_minutes</th>\n",
       "      <th>averagerating</th>\n",
       "      <th>numvotes</th>\n",
       "      <th>studio</th>\n",
       "      <th>...</th>\n",
       "      <th>synopsis</th>\n",
       "      <th>rating</th>\n",
       "      <th>genre</th>\n",
       "      <th>director</th>\n",
       "      <th>writer</th>\n",
       "      <th>theater_date</th>\n",
       "      <th>dvd_date</th>\n",
       "      <th>currency</th>\n",
       "      <th>box_office</th>\n",
       "      <th>runtime</th>\n",
       "    </tr>\n",
       "  </thead>\n",
       "  <tbody>\n",
       "    <tr>\n",
       "      <th>0</th>\n",
       "      <td>[Comedy]</td>\n",
       "      <td>en</td>\n",
       "      <td>0.725</td>\n",
       "      <td>Snatched</td>\n",
       "      <td>3.5</td>\n",
       "      <td>2</td>\n",
       "      <td>81.0</td>\n",
       "      <td>5.5</td>\n",
       "      <td>61</td>\n",
       "      <td>Fox</td>\n",
       "      <td>...</td>\n",
       "      <td>Aging, small town attorney Mac McClain (Matthe...</td>\n",
       "      <td>PG-13</td>\n",
       "      <td>Drama|Mystery and Suspense</td>\n",
       "      <td>Gary Wheeler</td>\n",
       "      <td>Mark Freiburger|Gary Wheeler|Robert Whitlow|Ma...</td>\n",
       "      <td>NaN</td>\n",
       "      <td>NaN</td>\n",
       "      <td>NaN</td>\n",
       "      <td>NaN</td>\n",
       "      <td>101 minutes</td>\n",
       "    </tr>\n",
       "  </tbody>\n",
       "</table>\n",
       "<p>1 rows × 27 columns</p>\n",
       "</div>"
      ],
      "text/plain": [
       "  genre_ids original_language  popularity     title  vote_average  vote_count  \\\n",
       "0  [Comedy]                en       0.725  Snatched           3.5           2   \n",
       "\n",
       "   runtime_minutes  averagerating  numvotes studio  ...  \\\n",
       "0             81.0            5.5        61    Fox  ...   \n",
       "\n",
       "                                            synopsis  rating  \\\n",
       "0  Aging, small town attorney Mac McClain (Matthe...   PG-13   \n",
       "\n",
       "                        genre      director  \\\n",
       "0  Drama|Mystery and Suspense  Gary Wheeler   \n",
       "\n",
       "                                              writer  theater_date  dvd_date  \\\n",
       "0  Mark Freiburger|Gary Wheeler|Robert Whitlow|Ma...           NaN       NaN   \n",
       "\n",
       "  currency box_office      runtime  \n",
       "0      NaN        NaN  101 minutes  \n",
       "\n",
       "[1 rows x 27 columns]"
      ]
     },
     "execution_count": 133,
     "metadata": {},
     "output_type": "execute_result"
    }
   ],
   "source": [
    "combined_df.head(1)"
   ]
  },
  {
   "cell_type": "code",
   "execution_count": 125,
   "metadata": {
    "scrolled": false
   },
   "outputs": [],
   "source": [
    "combined_df = combined_df.drop(['id', 'synopsis', 'theater_date', 'dvd_date', 'currency', 'box_office', 'runtime'], axis=1)"
   ]
  }
 ],
 "metadata": {
  "kernelspec": {
   "display_name": "Python 3",
   "language": "python",
   "name": "python3"
  },
  "language_info": {
   "codemirror_mode": {
    "name": "ipython",
    "version": 3
   },
   "file_extension": ".py",
   "mimetype": "text/x-python",
   "name": "python",
   "nbconvert_exporter": "python",
   "pygments_lexer": "ipython3",
   "version": "3.8.5"
  }
 },
 "nbformat": 4,
 "nbformat_minor": 4
}
